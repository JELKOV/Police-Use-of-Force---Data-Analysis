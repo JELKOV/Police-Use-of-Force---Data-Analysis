{
 "nbformat": 4,
 "nbformat_minor": 0,
 "metadata": {
  "kernelspec": {
   "display_name": "Python 3",
   "language": "python",
   "name": "python3"
  },
  "language_info": {
   "codemirror_mode": {
    "name": "ipython",
    "version": 3
   },
   "file_extension": ".py",
   "mimetype": "text/x-python",
   "name": "python",
   "nbconvert_exporter": "python",
   "pygments_lexer": "ipython3",
   "version": "3.7.9"
  },
  "colab": {
   "name": "Fatal Force (start).ipynb",
   "provenance": []
  }
 },
 "cells": [
  {
   "metadata": {},
   "cell_type": "markdown",
   "source": [
    "# 소개 (Introduction)\n",
    "\n",
    "\n",
    "<center><img src=https://i.imgur.com/sX3K62b.png></center>\n",
    "\n",
    "2015년 1월 1일부터 [*The Washington Post*](https://www.washingtonpost.com/)는 미국 내 경찰이 공무 수행 중 발생한 모든 총기 사망 사건을 데이터베이스화하고 있습니다.\n",
    "\n",
    "\n",
    "데이터 수집 및 보고와 관련하여 많은 어려움이 있지만, *The Washington Post*는 각 사건에 대한 12개 이상의 정보를 추적해왔습니다.\n",
    "이 정보에는 희생자의 **인종, 연령, 성별**, 무장 여부, 정신 건강 상태 등이 포함됩니다.\n",
    "\n",
    "이 데이터는 **법 집행 기관 웹사이트, 지역 뉴스, 소셜 미디어** 및\n",
    "*\"Killed by Police\"*, *\"Fatal Encounters\"* 와 같은 독립적인 데이터베이스를 모니터링하여 수집되었습니다.\n",
    "또한 *The Washington Post*는 여러 사건에 대해 추가적인 취재를 진행하였습니다.\n",
    "\n",
    "추가적으로, 4개의 **미국 인구 조사 데이터셋**이 포함되어 있습니다:\n",
    "- 빈곤율 (Poverty rate)\n",
    "- 고등학교 졸업률 (High school graduation rate)\n",
    "- 중위 가계 소득 (Median household income)\n",
    "- 인종 통계 (Racial demographics)\n",
    "\n",
    "데이터 출처: [미국 인구조사 데이터](https://www.census.gov)\n"
   ]
  },
  {
   "metadata": {},
   "cell_type": "markdown",
   "source": [
    "# Plotly 업그레이드\n",
    "\n",
    "Google Colab을 사용하고 있다면, 아래의 셀을 실행하여 최신 버전의 Plotly를 설치하세요.\n"
   ]
  },
  {
   "cell_type": "code",
   "metadata": {
    "id": "KvA9PBoRwvQG",
    "outputId": "ca6ee2a1-8da5-4f2d-f2b2-ea019cd92cae",
    "colab": {
     "base_uri": "https://localhost:8080/"
    },
    "ExecuteTime": {
     "end_time": "2025-02-18T10:19:59.249545Z",
     "start_time": "2025-02-18T10:19:55.927006Z"
    }
   },
   "source": [
    "# pip Upgrade\n",
    "!python -m pip install --upgrade pip\n",
    "# plotly Upgrade\n",
    "%pip install --upgrade plotly"
   ],
   "outputs": [
    {
     "name": "stdout",
     "output_type": "stream",
     "text": [
      "Requirement already satisfied: pip in c:\\users\\gram\\technical python project\\.venv\\lib\\site-packages (25.0.1)\n",
      "Requirement already satisfied: plotly in c:\\users\\gram\\technical python project\\.venv\\lib\\site-packages (6.0.0)\n",
      "Requirement already satisfied: narwhals>=1.15.1 in c:\\users\\gram\\technical python project\\.venv\\lib\\site-packages (from plotly) (1.25.0)\n",
      "Requirement already satisfied: packaging in c:\\users\\gram\\technical python project\\.venv\\lib\\site-packages (from plotly) (24.2)\n",
      "Note: you may need to restart the kernel to use updated packages.\n"
     ]
    }
   ],
   "execution_count": 38
  },
  {
   "cell_type": "markdown",
   "metadata": {
    "id": "jqXsMLNJxELp"
   },
   "source": "## Import 목록"
  },
  {
   "cell_type": "code",
   "metadata": {
    "id": "TPhEXC2FxGSr",
    "ExecuteTime": {
     "end_time": "2025-02-18T10:19:59.258464Z",
     "start_time": "2025-02-18T10:19:59.254973Z"
    }
   },
   "source": [
    "import numpy as np\n",
    "import pandas as pd\n",
    "import plotly.express as px\n",
    "import matplotlib.pyplot as plt\n",
    "import seaborn as sns\n",
    "\n",
    "# This might be helpful:\n",
    "from collections import Counter"
   ],
   "outputs": [],
   "execution_count": 39
  },
  {
   "cell_type": "markdown",
   "metadata": {
    "id": "SwKGmmaLxS2s"
   },
   "source": "## Notebook Presentation (데이터 가독성 향상을 위한 설정 변경)"
  },
  {
   "cell_type": "code",
   "metadata": {
    "id": "ayQQqhKtxBxj",
    "ExecuteTime": {
     "end_time": "2025-02-18T10:19:59.280532Z",
     "start_time": "2025-02-18T10:19:59.277456Z"
    }
   },
   "source": [
    "#pandas의 float 숫자 표시 형식을 변경합니다.\n",
    "# 소수점 둘째 자리까지 표시 (.2f)\n",
    "# 숫자에 천 단위 구분 기호(쉼표 ,) 추가\n",
    "pd.options.display.float_format = '{:,.2f}'.format"
   ],
   "outputs": [],
   "execution_count": 40
  },
  {
   "cell_type": "markdown",
   "metadata": {
    "id": "nKxJMOiMyAUF"
   },
   "source": "## Data 로드 하기"
  },
  {
   "cell_type": "code",
   "metadata": {
    "_cell_guid": "abb0685f-f844-43f8-84c0-4cd54361c7bf",
    "_uuid": "9c06ed7c41db79ae9d940f2d52aeff23621b3037",
    "id": "8KmGeg6ouRoP",
    "ExecuteTime": {
     "end_time": "2025-02-18T10:19:59.416375Z",
     "start_time": "2025-02-18T10:19:59.293621Z"
    }
   },
   "source": [
    "df_hh_income = pd.read_csv('Median_Household_Income_2015.csv', encoding=\"windows-1252\")\n",
    "df_pct_poverty = pd.read_csv('Pct_People_Below_Poverty_Level.csv', encoding=\"windows-1252\")\n",
    "df_pct_completed_hs = pd.read_csv('Pct_Over_25_Completed_High_School.csv', encoding=\"windows-1252\")\n",
    "df_share_race_city = pd.read_csv('Share_of_Race_By_City.csv', encoding=\"windows-1252\")\n",
    "df_fatalities = pd.read_csv('Deaths_by_Police_US.csv', encoding=\"windows-1252\")"
   ],
   "outputs": [],
   "execution_count": 41
  },
  {
   "metadata": {},
   "cell_type": "markdown",
   "source": [
    "# 데이터 탐색 (Preliminary Data Exploration)\n",
    "\n",
    "- 데이터프레임의 **형태(shape)** 는 어떻게 되는가?\n",
    "- **행과 열의 개수** 는 몇 개인가?\n",
    "- **컬럼(열) 이름** 은 무엇인가?\n",
    "- **결측치(NaN) 또는 중복 데이터** 가 존재하는가?\n"
   ]
  },
  {
   "cell_type": "code",
   "metadata": {
    "id": "3U9RcS1WyrRJ",
    "ExecuteTime": {
     "end_time": "2025-02-18T10:19:59.425645Z",
     "start_time": "2025-02-18T10:19:59.422230Z"
    }
   },
   "source": [
    "print(\"DATA SHAPE\")\n",
    "print(f\"Median_Household_Income_2015: {df_hh_income.shape}\")\n",
    "print(f\"Pct_People_Below_Poverty_Level: {df_pct_poverty.shape}\")\n",
    "print(f\"Pct_Over_25_Completed_High_School: {df_pct_completed_hs.shape}\")\n",
    "print(f\"Share_of_Race_By_City: {df_share_race_city.shape}\")\n",
    "print(f\"Deaths_by_Police_US: {df_fatalities.shape}\")"
   ],
   "outputs": [
    {
     "name": "stdout",
     "output_type": "stream",
     "text": [
      "DATA SHAPE\n",
      "Median_Household_Income_2015: (29322, 3)\n",
      "Pct_People_Below_Poverty_Level: (29329, 3)\n",
      "Pct_Over_25_Completed_High_School: (29329, 3)\n",
      "Share_of_Race_By_City: (29268, 7)\n",
      "Deaths_by_Police_US: (2535, 14)\n"
     ]
    }
   ],
   "execution_count": 42
  },
  {
   "cell_type": "code",
   "metadata": {
    "id": "DmIARadGyrgs",
    "ExecuteTime": {
     "end_time": "2025-02-18T10:19:59.454770Z",
     "start_time": "2025-02-18T10:19:59.450731Z"
    }
   },
   "source": [
    "print(\"COLUMNS NAME\")\n",
    "print(f\"Median_Household_Income_2015: {df_hh_income.columns}\")\n",
    "print(f\"Pct_People_Below_Poverty_Level: {df_pct_poverty.columns}\")\n",
    "print(f\"Pct_Over_25_Completed_High_School: {df_pct_completed_hs.columns}\")\n",
    "print(f\"Share_of_Race_By_City: {df_share_race_city.columns}\")\n",
    "print(f\"Deaths_by_Police_US: {df_fatalities.columns}\")"
   ],
   "outputs": [
    {
     "name": "stdout",
     "output_type": "stream",
     "text": [
      "COLUMNS NAME\n",
      "Median_Household_Income_2015: Index(['Geographic Area', 'City', 'Median Income'], dtype='object')\n",
      "Pct_People_Below_Poverty_Level: Index(['Geographic Area', 'City', 'poverty_rate'], dtype='object')\n",
      "Pct_Over_25_Completed_High_School: Index(['Geographic Area', 'City', 'percent_completed_hs'], dtype='object')\n",
      "Share_of_Race_By_City: Index(['Geographic area', 'City', 'share_white', 'share_black',\n",
      "       'share_native_american', 'share_asian', 'share_hispanic'],\n",
      "      dtype='object')\n",
      "Deaths_by_Police_US: Index(['id', 'name', 'date', 'manner_of_death', 'armed', 'age', 'gender',\n",
      "       'race', 'city', 'state', 'signs_of_mental_illness', 'threat_level',\n",
      "       'flee', 'body_camera'],\n",
      "      dtype='object')\n"
     ]
    }
   ],
   "execution_count": 43
  },
  {
   "cell_type": "code",
   "metadata": {
    "id": "OSgTJoX7yrcS",
    "ExecuteTime": {
     "end_time": "2025-02-18T10:19:59.504055Z",
     "start_time": "2025-02-18T10:19:59.483660Z"
    }
   },
   "source": [
    "print(\"NAN values: TRUE: NaN 있음, FALSE: NaN 없음\")\n",
    "print(f\"Median_Household_Income_2015: {df_hh_income.isna().values.any()}\")\n",
    "print(f\"Pct_People_Below_Poverty_Level: {df_pct_poverty.isna().values.any()}\")\n",
    "print(f\"Pct_Over_25_Completed_High_School: {df_pct_completed_hs.isna().values.any()}\")\n",
    "print(f\"Share_of_Race_By_City: {df_share_race_city.isna().values.any()}\")\n",
    "print(f\"Deaths_by_Police_US: {df_fatalities.isna().values.any()}\")"
   ],
   "outputs": [
    {
     "name": "stdout",
     "output_type": "stream",
     "text": [
      "NAN values: TRUE: NaN 있음, FALSE: NaN 없음\n",
      "Median_Household_Income_2015: True\n",
      "Pct_People_Below_Poverty_Level: False\n",
      "Pct_Over_25_Completed_High_School: False\n",
      "Share_of_Race_By_City: False\n",
      "Deaths_by_Police_US: True\n"
     ]
    }
   ],
   "execution_count": 44
  },
  {
   "metadata": {},
   "cell_type": "markdown",
   "source": [
    "# 데이터 정리 - 결측값 및 중복 데이터 확인\n",
    "\n",
    "결측값(NaN)을 어떻게 처리할지 고려하세요.\n",
    "경우에 따라 **0으로 대체(substituting 0)** 하는 것이 적절할 수도 있습니다.\n"
   ]
  },
  {
   "cell_type": "code",
   "metadata": {
    "id": "WEZuPaXvyxxp",
    "ExecuteTime": {
     "end_time": "2025-02-18T10:19:59.551672Z",
     "start_time": "2025-02-18T10:19:59.516398Z"
    }
   },
   "source": [
    "print(\"NAN값이 있는 열을 확인\")\n",
    "Median_Household_Income_2015_nan_columns = df_hh_income.columns[df_hh_income.isnull().any()]\n",
    "print(f\"Median_Household_Income_2015: {Median_Household_Income_2015_nan_columns}\")\n",
    "Pct_People_Below_Poverty_Level_nan_columns = df_pct_poverty.columns[df_pct_poverty.isnull().any()]\n",
    "print(f\"Pct_People_Below_Poverty_Level: {Pct_People_Below_Poverty_Level_nan_columns}\")\n",
    "Pct_Over_25_Completed_High_School_nan_columns = df_pct_completed_hs.columns[df_pct_completed_hs.isnull().any()]\n",
    "print(f\"Pct_Over_25_Completed_High_School: {Pct_Over_25_Completed_High_School_nan_columns}\")\n",
    "Share_of_Race_By_City_nan_columns = df_share_race_city.columns[df_share_race_city.isnull().any()]\n",
    "print(f\"Share_of_Race_By_City: {Share_of_Race_By_City_nan_columns}\")\n",
    "Deaths_by_Police_US_nan_columns = df_fatalities.columns[df_fatalities.isnull().any()]\n",
    "print(f\"Deaths_by_Police_US: {Deaths_by_Police_US_nan_columns}\")"
   ],
   "outputs": [
    {
     "name": "stdout",
     "output_type": "stream",
     "text": [
      "NAN값이 있는 열을 확인\n",
      "Median_Household_Income_2015: Index(['Median Income'], dtype='object')\n",
      "Pct_People_Below_Poverty_Level: Index([], dtype='object')\n",
      "Pct_Over_25_Completed_High_School: Index([], dtype='object')\n",
      "Share_of_Race_By_City: Index([], dtype='object')\n",
      "Deaths_by_Police_US: Index(['armed', 'age', 'race', 'flee'], dtype='object')\n"
     ]
    }
   ],
   "execution_count": 45
  },
  {
   "cell_type": "code",
   "metadata": {
    "id": "550aSczryx01",
    "ExecuteTime": {
     "end_time": "2025-02-18T10:25:51.376307Z",
     "start_time": "2025-02-18T10:25:51.366666Z"
    }
   },
   "source": [
    "print(\"NaN값 처리\")\n",
    "\n",
    "# 수치형 변수 처리 (문자열을 숫자로 변환 후 0으로 채우기)\n",
    "df_hh_income[\"Median Income\"] = pd.to_numeric(df_hh_income[\"Median Income\"], errors='coerce')\n",
    "df_hh_income.loc[:, \"Median Income\"].fillna(0)\n",
    "\n",
    "df_fatalities[\"age\"] = pd.to_numeric(df_fatalities[\"age\"], errors='coerce')\n",
    "df_fatalities.loc[:, \"age\"].fillna(0)\n",
    "\n",
    "# 범주형 변수 unknown, Not fleeing\n",
    "df_fatalities.loc[:, \"race\"] = df_fatalities[\"race\"].fillna(\"unKnown\")\n",
    "df_fatalities.loc[:, \"armed\"] = df_fatalities[\"armed\"].fillna(\"unKnown\")\n",
    "df_fatalities.loc[:, \"flee\"] = df_fatalities[\"flee\"].fillna(\"Not fleeing\")\n",
    "\n",
    "print(\"디버깅 용\")\n",
    "print(f\"Median_Household_Income_2015 Check: {df_hh_income.isna().values.any()}\")\n",
    "print(f\"Deaths_by_Police_US Check: {df_fatalities.isna().values.any()}\")"
   ],
   "outputs": [
    {
     "name": "stdout",
     "output_type": "stream",
     "text": [
      "NaN값 처리\n",
      "디버깅 용\n",
      "Median_Household_Income_2015 Check: False\n",
      "Deaths_by_Police_US Check: False\n"
     ]
    }
   ],
   "execution_count": 54
  },
  {
   "metadata": {},
   "cell_type": "markdown",
   "source": [
    "# 미국 각 주의 빈곤율 차트\n",
    "\n",
    "미국 각 주(State)의 빈곤율을 **높은 순에서 낮은 순으로 정렬한 막대 그래프(Bar Chart)** 를 생성하세요.\n",
    "어느 주가 가장 높은 빈곤율을 가지고 있는가?\n",
    "어느 주가 가장 낮은 빈곤율을 가지고 있는가?\n"
   ]
  },
  {
   "cell_type": "code",
   "metadata": {
    "id": "mGxEzMDqzqmn",
    "ExecuteTime": {
     "end_time": "2025-02-18T10:19:59.700432Z",
     "start_time": "2025-02-18T10:19:59.697070Z"
    }
   },
   "source": [
    ""
   ],
   "outputs": [],
   "execution_count": null
  },
  {
   "cell_type": "code",
   "metadata": {
    "id": "B3AM6oJQ1D_P",
    "ExecuteTime": {
     "end_time": "2025-02-18T10:19:59.759046Z",
     "start_time": "2025-02-18T10:19:59.756953Z"
    }
   },
   "source": [
    ""
   ],
   "outputs": [],
   "execution_count": null
  },
  {
   "metadata": {},
   "cell_type": "markdown",
   "source": [
    "# 미국 각 주의 고등학교 졸업률 차트\n",
    "\n",
    "미국 각 주(State)의 **고등학교 졸업률**을 **오름차순(낮은 순부터 높은 순으로) 정렬한 차트**를 생성하세요.\n",
    "어느 주의 **고등학교 졸업률이 가장 낮은가?**\n",
    "어느 주의 **고등학교 졸업률이 가장 높은가?**\n"
   ]
  },
  {
   "cell_type": "code",
   "metadata": {
    "id": "laD6W9eG0JFR",
    "ExecuteTime": {
     "end_time": "2025-02-18T10:19:59.774045Z",
     "start_time": "2025-02-18T10:19:59.771406Z"
    }
   },
   "source": [
    ""
   ],
   "outputs": [],
   "execution_count": null
  },
  {
   "metadata": {},
   "cell_type": "markdown",
   "source": [
    "# 빈곤율과 고등학교 졸업률 간의 관계 시각화\n",
    "\n",
    "두 개의 **y축(y-axes)** 을 가진 **선형 차트(Line Chart)** 를 생성하여\n",
    "빈곤율과 고등학교 졸업률이 함께 변하는지 확인"
   ]
  },
  {
   "cell_type": "code",
   "metadata": {
    "id": "MkNk5U8v0JPB",
    "ExecuteTime": {
     "end_time": "2025-02-18T10:19:59.788259Z",
     "start_time": "2025-02-18T10:19:59.786121Z"
    }
   },
   "source": [
    ""
   ],
   "outputs": [],
   "execution_count": null
  },
  {
   "cell_type": "code",
   "metadata": {
    "id": "urRMqQG_0Nmo",
    "ExecuteTime": {
     "end_time": "2025-02-18T10:19:59.801984Z",
     "start_time": "2025-02-18T10:19:59.799612Z"
    }
   },
   "source": [
    ""
   ],
   "outputs": [],
   "execution_count": null
  },
  {
   "metadata": {},
   "cell_type": "markdown",
   "source": [
    "**Seaborn의 `jointplot()`** 을 활용하여\n",
    "**커널 밀도 추정(KDE, Kernel Density Estimate) 및/또는 산점도(Scatter Plot)** 를 사용해 동일한 관계를 시각화"
   ]
  },
  {
   "cell_type": "code",
   "metadata": {
    "id": "u77CHfdX0pjW",
    "ExecuteTime": {
     "end_time": "2025-02-18T10:19:59.836189Z",
     "start_time": "2025-02-18T10:19:59.834215Z"
    }
   },
   "source": [
    ""
   ],
   "outputs": [],
   "execution_count": null
  },
  {
   "cell_type": "code",
   "metadata": {
    "id": "CYy89o-u1zu0",
    "ExecuteTime": {
     "end_time": "2025-02-18T10:19:59.850526Z",
     "start_time": "2025-02-18T10:19:59.848358Z"
    }
   },
   "source": [
    ""
   ],
   "outputs": [],
   "execution_count": null
  },
  {
   "metadata": {},
   "cell_type": "markdown",
   "source": [
    "Seaborn의 **`.lmplot()`** 또는 **`.regplot()`** 을 활용하여\n",
    "빈곤율과 고등학교 졸업률 간의 **선형 회귀 분석(Linear Regression)** 을 수행"
   ]
  },
  {
   "cell_type": "code",
   "metadata": {
    "id": "F1xrjFgT1znI",
    "ExecuteTime": {
     "end_time": "2025-02-18T10:19:59.867225Z",
     "start_time": "2025-02-18T10:19:59.864627Z"
    }
   },
   "source": [
    ""
   ],
   "outputs": [],
   "execution_count": null
  },
  {
   "metadata": {},
   "cell_type": "markdown",
   "source": [
    "# 각 미국 주의 인종 구성 비율을 나타내는 막대 차트 생성\n",
    "\n",
    "- 각 미국 주(State)별 **백인, 흑인, 히스패닉, 아시아인 및 원주민(Native American) 인구 비율**을\n",
    "- **하위 섹션(subsections)** 이 포함된 **막대 그래프(Bar Chart)** 를 사용하여 시각화"
   ]
  },
  {
   "cell_type": "code",
   "metadata": {
    "id": "YQbXb6Ex09D9",
    "ExecuteTime": {
     "end_time": "2025-02-18T10:19:59.882360Z",
     "start_time": "2025-02-18T10:19:59.880630Z"
    }
   },
   "source": [
    ""
   ],
   "outputs": [],
   "execution_count": null
  },
  {
   "cell_type": "code",
   "metadata": {
    "id": "LqrimlLo09Na",
    "ExecuteTime": {
     "end_time": "2025-02-18T10:19:59.897701Z",
     "start_time": "2025-02-18T10:19:59.894943Z"
    }
   },
   "source": [
    ""
   ],
   "outputs": [],
   "execution_count": null
  },
  {
   "metadata": {},
   "cell_type": "markdown",
   "source": [
    "# 인종별 사망자를 나타내는 도넛 차트 생성\n",
    "\n",
    "- 각 인종별 경찰 사망자의 비율을 **도넛 차트(Donut Chart)** 로 시각화\n",
    "- 💡`.value_counts()` 를 사용하여 데이터를 집계"
   ]
  },
  {
   "cell_type": "code",
   "metadata": {
    "id": "1nOafPdy1u9Z",
    "ExecuteTime": {
     "end_time": "2025-02-18T10:19:59.912948Z",
     "start_time": "2025-02-18T10:19:59.910532Z"
    }
   },
   "source": [
    ""
   ],
   "outputs": [],
   "execution_count": null
  },
  {
   "cell_type": "code",
   "metadata": {
    "id": "YN3hzJTe1vHJ",
    "ExecuteTime": {
     "end_time": "2025-02-18T10:19:59.937836Z",
     "start_time": "2025-02-18T10:19:59.935608Z"
    }
   },
   "source": [
    ""
   ],
   "outputs": [],
   "execution_count": null
  },
  {
   "metadata": {},
   "cell_type": "markdown",
   "source": [
    "# 남성과 여성의 총 사망자 수 비교 차트 생성\n",
    "\n",
    "- **남성과 여성의 사망자 수 차이**를 비교하는 차트를 생성\n",
    "- 💡 `df_fatalities` 데이터를 활용하여 남성 사망자가 여성보다 얼마나 많은지 나타냄"
   ]
  },
  {
   "cell_type": "code",
   "metadata": {
    "id": "joH1L4303BsJ",
    "ExecuteTime": {
     "end_time": "2025-02-18T10:19:59.952528Z",
     "start_time": "2025-02-18T10:19:59.950228Z"
    }
   },
   "source": [
    ""
   ],
   "outputs": [],
   "execution_count": null
  },
  {
   "cell_type": "code",
   "metadata": {
    "id": "X4MrMkVa3MTk",
    "ExecuteTime": {
     "end_time": "2025-02-18T10:19:59.966038Z",
     "start_time": "2025-02-18T10:19:59.963913Z"
    }
   },
   "source": [
    ""
   ],
   "outputs": [],
   "execution_count": null
  },
  {
   "metadata": {},
   "cell_type": "markdown",
   "source": [
    "# 연령 및 사망 유형을 나타내는 박스 플롯 생성\n",
    "\n",
    "- 남성과 여성의 **연령(Age)** 및 **사망 유형(Manner of Death)** 을 나타내는 **박스 플롯(Box Plot)** 을 생성\n",
    "- 💡 `df_fatalities` 데이터를 사용하여 성별(Gender)별로 데이터를 구분\n",
    "- 남성과 여성 간에 사망 유형에 차이가 있는지 분석"
   ]
  },
  {
   "cell_type": "code",
   "metadata": {
    "id": "WdPPZLJY2shA",
    "ExecuteTime": {
     "end_time": "2025-02-18T10:19:59.989696Z",
     "start_time": "2025-02-18T10:19:59.987602Z"
    }
   },
   "source": [
    ""
   ],
   "outputs": [],
   "execution_count": null
  },
  {
   "cell_type": "code",
   "metadata": {
    "id": "tpPq4uFc2sql",
    "ExecuteTime": {
     "end_time": "2025-02-18T10:20:00.005773Z",
     "start_time": "2025-02-18T10:20:00.003690Z"
    }
   },
   "source": [
    ""
   ],
   "outputs": [],
   "execution_count": null
  },
  {
   "cell_type": "code",
   "metadata": {
    "id": "EnFbXlRm3XK6",
    "ExecuteTime": {
     "end_time": "2025-02-18T10:20:00.025636Z",
     "start_time": "2025-02-18T10:20:00.022076Z"
    }
   },
   "source": [
    ""
   ],
   "outputs": [],
   "execution_count": null
  },
  {
   "metadata": {},
   "cell_type": "markdown",
   "source": [
    "# 무기를 소지하고 있었는가?\n",
    "\n",
    "- 경찰 총격 사건에서 **무기를 소지한 사람의 비율**을 분석\n",
    "- 사망자가 소지한 **무기의 종류**(또는 무기를 소지하지 않았는지)를 나타내는 차트를 생성\n",
    "- 특히 **총기(Guns) 소지자와 비무장(Unarmed) 사망자의 수를 비교"
   ]
  },
  {
   "cell_type": "code",
   "metadata": {
    "id": "0d9B3Pec4TdM",
    "ExecuteTime": {
     "end_time": "2025-02-18T10:20:00.043835Z",
     "start_time": "2025-02-18T10:20:00.041444Z"
    }
   },
   "source": [
    ""
   ],
   "outputs": [],
   "execution_count": null
  },
  {
   "cell_type": "code",
   "metadata": {
    "id": "vdGTO3pW4Tp5",
    "ExecuteTime": {
     "end_time": "2025-02-18T10:20:00.064642Z",
     "start_time": "2025-02-18T10:20:00.061497Z"
    }
   },
   "source": [
    ""
   ],
   "outputs": [],
   "execution_count": null
  },
  {
   "cell_type": "code",
   "metadata": {
    "id": "qnO_rckl4WuJ",
    "ExecuteTime": {
     "end_time": "2025-02-18T10:20:00.091626Z",
     "start_time": "2025-02-18T10:20:00.089133Z"
    }
   },
   "source": [
    ""
   ],
   "outputs": [],
   "execution_count": null
  },
  {
   "metadata": {},
   "cell_type": "markdown",
   "source": [
    "# 사망자의 연령 분석\n",
    "\n",
    "- **25세 이하**의 사망자가 전체에서 차지하는 비율을 계산"
   ]
  },
  {
   "cell_type": "code",
   "metadata": {
    "id": "zSyDgzb542O9",
    "ExecuteTime": {
     "end_time": "2025-02-18T10:20:00.115849Z",
     "start_time": "2025-02-18T10:20:00.112380Z"
    }
   },
   "source": [
    ""
   ],
   "outputs": [],
   "execution_count": null
  },
  {
   "cell_type": "markdown",
   "metadata": {
    "id": "5XrAD_ey9qBB"
   },
   "source": [
    "- 경찰에 의해 사망한 사람들의 **연령 분포**를 나타내는\n",
    "  **히스토그램(Histogram)과 커널 밀도 추정(KDE) 플롯**을 생성"
   ]
  },
  {
   "cell_type": "code",
   "metadata": {
    "id": "U6B1Qp7l42H8",
    "ExecuteTime": {
     "end_time": "2025-02-18T10:20:00.132194Z",
     "start_time": "2025-02-18T10:20:00.129117Z"
    }
   },
   "source": [
    ""
   ],
   "outputs": [],
   "execution_count": null
  },
  {
   "cell_type": "markdown",
   "metadata": {
    "id": "zcqqPDo79rTx"
   },
   "source": "- 각 인종별로 개별 **KDE(Kernel Density Estimate) 플롯**을 생성, 인종에 따라 분포의 차이가 존재하는지 확인"
  },
  {
   "cell_type": "code",
   "metadata": {
    "id": "ubUnMjok43Zo",
    "ExecuteTime": {
     "end_time": "2025-02-18T10:20:00.147524Z",
     "start_time": "2025-02-18T10:20:00.144711Z"
    }
   },
   "source": [
    ""
   ],
   "outputs": [],
   "execution_count": null
  },
  {
   "cell_type": "markdown",
   "metadata": {
    "id": "JkcHvMUt43uE"
   },
   "source": [
    "# 인종별 사망자 수 비교 차트 생성\n",
    "\n",
    "- 경찰에 의해 사망한 사람들의 **인종별 총 사망자 수**를 나타내는 차트를 생성"
   ]
  },
  {
   "cell_type": "code",
   "metadata": {
    "id": "e8wZvBrt5BEb",
    "ExecuteTime": {
     "end_time": "2025-02-18T10:20:00.162141Z",
     "start_time": "2025-02-18T10:20:00.159716Z"
    }
   },
   "source": [
    ""
   ],
   "outputs": [],
   "execution_count": null
  },
  {
   "cell_type": "code",
   "metadata": {
    "id": "_aqN0wC45BOl",
    "ExecuteTime": {
     "end_time": "2025-02-18T10:20:00.178162Z",
     "start_time": "2025-02-18T10:20:00.176241Z"
    }
   },
   "source": [
    ""
   ],
   "outputs": [],
   "execution_count": null
  },
  {
   "cell_type": "markdown",
   "metadata": {
    "id": "SJaNm4rC5nWm"
   },
   "source": [
    "# 정신질환과 경찰 총격\n",
    "\n",
    "- 경찰에 의해 사망한 사람들 중 **정신질환(Mental Illness)** 을 진단받은 사람이 차지하는 비율을 계산"
   ]
  },
  {
   "cell_type": "code",
   "metadata": {
    "id": "dbuGvCnN5ytC",
    "ExecuteTime": {
     "end_time": "2025-02-18T10:20:00.194696Z",
     "start_time": "2025-02-18T10:20:00.191877Z"
    }
   },
   "source": [
    ""
   ],
   "outputs": [],
   "execution_count": null
  },
  {
   "cell_type": "code",
   "metadata": {
    "id": "BsKDVLiY5CP_",
    "ExecuteTime": {
     "end_time": "2025-02-18T10:20:00.213055Z",
     "start_time": "2025-02-18T10:20:00.210341Z"
    }
   },
   "source": [
    ""
   ],
   "outputs": [],
   "execution_count": null
  },
  {
   "cell_type": "markdown",
   "metadata": {
    "id": "R0WSPeKD5Cir"
   },
   "source": [
    "# 경찰 총격 사건이 가장 많이 발생한 도시\n",
    "\n",
    "- **경찰 총격 사건이 가장 많은 상위 10개 도시**를 나타내는 차트를 생성\n",
    "- 어떤 도시가 가장 위험한가?"
   ]
  },
  {
   "cell_type": "code",
   "metadata": {
    "id": "NYVwo3qy5UV3",
    "ExecuteTime": {
     "end_time": "2025-02-18T10:20:00.228687Z",
     "start_time": "2025-02-18T10:20:00.226060Z"
    }
   },
   "source": [
    ""
   ],
   "outputs": [],
   "execution_count": null
  },
  {
   "cell_type": "code",
   "metadata": {
    "id": "T_FU4GFk5Upa",
    "ExecuteTime": {
     "end_time": "2025-02-18T10:20:00.243988Z",
     "start_time": "2025-02-18T10:20:00.241442Z"
    }
   },
   "source": [
    ""
   ],
   "outputs": [],
   "execution_count": null
  },
  {
   "cell_type": "markdown",
   "metadata": {
    "id": "AqcOW6ca8JMD"
   },
   "source": [
    "# 인종별 사망 비율 비교\n",
    "\n",
    "- **상위 10개 도시에서 각 인종별 비율**을 분석\n",
    "- 경찰 총격이 가장 많은 상위 10개 도시와 비교하여, 인종별 사망 비율이 어떻게 차이 나는지 분석"
   ]
  },
  {
   "cell_type": "code",
   "metadata": {
    "id": "FkjAUlKy8I2g",
    "ExecuteTime": {
     "end_time": "2025-02-18T10:20:00.260652Z",
     "start_time": "2025-02-18T10:20:00.258394Z"
    }
   },
   "source": [
    ""
   ],
   "outputs": [],
   "execution_count": null
  },
  {
   "cell_type": "code",
   "metadata": {
    "id": "dA3Hs9b55V59",
    "ExecuteTime": {
     "end_time": "2025-02-18T10:20:00.275354Z",
     "start_time": "2025-02-18T10:20:00.273195Z"
    }
   },
   "source": [
    ""
   ],
   "outputs": [],
   "execution_count": null
  },
  {
   "cell_type": "markdown",
   "metadata": {
    "id": "1HUJksrI5WFb"
   },
   "source": [
    "# 미국 각 주의 경찰 총격 사건을 나타내는 지도(Choropleth Map) 생성\n",
    "\n",
    "- 경찰 총격 사건이 가장 많은 주(State)를 지도 위에 시각화\n",
    "- 해당 주들은 높은 빈곤율을 가진 주와 일치하는가?"
   ]
  },
  {
   "cell_type": "code",
   "metadata": {
    "id": "u3UuX4Yo5dBA",
    "ExecuteTime": {
     "end_time": "2025-02-18T10:20:00.290162Z",
     "start_time": "2025-02-18T10:20:00.288253Z"
    }
   },
   "source": [
    ""
   ],
   "outputs": [],
   "execution_count": null
  },
  {
   "cell_type": "code",
   "metadata": {
    "id": "Y6VLPDeN5dKO",
    "ExecuteTime": {
     "end_time": "2025-02-18T10:20:00.305054Z",
     "start_time": "2025-02-18T10:20:00.302817Z"
    }
   },
   "source": [
    ""
   ],
   "outputs": [],
   "execution_count": null
  },
  {
   "cell_type": "markdown",
   "metadata": {
    "id": "37UsmVYF6hA2"
   },
   "source": [
    "# 경찰 총격 사건의 시간에 따른 변화 분석\n",
    "\n",
    "- 시간에 따른 **경찰 총격 사건의 추세(Trend)** 를 분석\n",
    "- 데이터에서 특정한 경향이 보이는가?"
   ]
  },
  {
   "cell_type": "code",
   "metadata": {
    "id": "nITf1IhP6gpI",
    "ExecuteTime": {
     "end_time": "2025-02-18T10:20:00.319706Z",
     "start_time": "2025-02-18T10:20:00.317370Z"
    }
   },
   "source": [
    ""
   ],
   "outputs": [],
   "execution_count": null
  },
  {
   "cell_type": "code",
   "metadata": {
    "id": "Q_vxjD_A7JRh",
    "ExecuteTime": {
     "end_time": "2025-02-18T10:20:00.334835Z",
     "start_time": "2025-02-18T10:20:00.332182Z"
    }
   },
   "source": [
    ""
   ],
   "outputs": [],
   "execution_count": null
  },
  {
   "cell_type": "code",
   "metadata": {
    "id": "mOqtie707JU8",
    "ExecuteTime": {
     "end_time": "2025-02-18T10:20:00.350002Z",
     "start_time": "2025-02-18T10:20:00.347728Z"
    }
   },
   "source": [
    ""
   ],
   "outputs": [],
   "execution_count": null
  },
  {
   "cell_type": "code",
   "metadata": {
    "id": "5fjhL8Lk7JKa",
    "ExecuteTime": {
     "end_time": "2025-02-18T10:20:00.364189Z",
     "start_time": "2025-02-18T10:20:00.361333Z"
    }
   },
   "source": [
    ""
   ],
   "outputs": [],
   "execution_count": null
  },
  {
   "cell_type": "markdown",
   "metadata": {
    "id": "9o6uLFpS61nw"
   },
   "source": [
    "# 에필로그\n",
    "\n",
    "지금까지 데이터를 직접 분석해 보았습니다.\n",
    "더 자세한 분석을 원한다면 [워싱턴 포스트의 분석](https://www.washingtonpost.com/graphics/investigations/police-shootings-database/)을 참고하세요."
   ]
  },
  {
   "cell_type": "code",
   "metadata": {
    "id": "8PjgzuNa61I1",
    "ExecuteTime": {
     "end_time": "2025-02-18T10:20:00.384132Z",
     "start_time": "2025-02-18T10:20:00.381534Z"
    }
   },
   "source": [
    ""
   ],
   "outputs": [],
   "execution_count": null
  }
 ]
}
